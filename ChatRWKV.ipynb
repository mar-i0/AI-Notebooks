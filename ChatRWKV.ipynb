{
  "nbformat": 4,
  "nbformat_minor": 0,
  "metadata": {
    "colab": {
      "provenance": [],
      "authorship_tag": "ABX9TyNWVQDPmmGV5xISYD4aMIY4",
      "include_colab_link": true
    },
    "kernelspec": {
      "name": "python3",
      "display_name": "Python 3"
    },
    "language_info": {
      "name": "python"
    },
    "gpuClass": "standard"
  },
  "cells": [
    {
      "cell_type": "markdown",
      "metadata": {
        "id": "view-in-github",
        "colab_type": "text"
      },
      "source": [
        "<a href=\"https://colab.research.google.com/github/mar-i0/AI-Notebooks/blob/main/ChatRWKV.ipynb\" target=\"_parent\"><img src=\"https://colab.research.google.com/assets/colab-badge.svg\" alt=\"Open In Colab\"/></a>"
      ]
    },
    {
      "cell_type": "code",
      "source": [
        "!git clone https://github.com/BlinkDL/ChatRWKV.git"
      ],
      "metadata": {
        "colab": {
          "base_uri": "https://localhost:8080/"
        },
        "id": "LMkYIhOQyLwi",
        "outputId": "8c0fffca-f4fb-4f16-fa1b-ca232881eb4c"
      },
      "execution_count": 1,
      "outputs": [
        {
          "output_type": "stream",
          "name": "stdout",
          "text": [
            "Cloning into 'ChatRWKV'...\n",
            "remote: Enumerating objects: 1323, done.\u001b[K\n",
            "remote: Counting objects: 100% (199/199), done.\u001b[K\n",
            "remote: Compressing objects: 100% (139/139), done.\u001b[K\n",
            "remote: Total 1323 (delta 75), reused 149 (delta 45), pack-reused 1124\u001b[K\n",
            "Receiving objects: 100% (1323/1323), 26.97 MiB | 18.98 MiB/s, done.\n",
            "Resolving deltas: 100% (709/709), done.\n"
          ]
        }
      ]
    },
    {
      "cell_type": "code",
      "source": [
        "%cd ChatRWKV"
      ],
      "metadata": {
        "colab": {
          "base_uri": "https://localhost:8080/"
        },
        "id": "6M5SyeiOyO_J",
        "outputId": "11ef9758-99a7-4b12-d934-6d35dc81c38f"
      },
      "execution_count": 2,
      "outputs": [
        {
          "output_type": "stream",
          "name": "stdout",
          "text": [
            "/content/ChatRWKV\n"
          ]
        }
      ]
    },
    {
      "cell_type": "code",
      "source": [
        "!pip install -r requirements.txt"
      ],
      "metadata": {
        "colab": {
          "base_uri": "https://localhost:8080/"
        },
        "id": "ddHZZwXAyRkp",
        "outputId": "a3787c4b-8948-4118-ffb7-a92b9e340552"
      },
      "execution_count": 3,
      "outputs": [
        {
          "output_type": "stream",
          "name": "stdout",
          "text": [
            "Looking in indexes: https://pypi.org/simple, https://us-python.pkg.dev/colab-wheels/public/simple/\n",
            "Collecting tokenizers>=0.13.2\n",
            "  Downloading tokenizers-0.13.3-cp39-cp39-manylinux_2_17_x86_64.manylinux2014_x86_64.whl (7.8 MB)\n",
            "\u001b[2K     \u001b[90m━━━━━━━━━━━━━━━━━━━━━━━━━━━━━━━━━━━━━━━━\u001b[0m \u001b[32m7.8/7.8 MB\u001b[0m \u001b[31m76.0 MB/s\u001b[0m eta \u001b[36m0:00:00\u001b[0m\n",
            "\u001b[?25hRequirement already satisfied: prompt_toolkit in /usr/local/lib/python3.9/dist-packages (from -r requirements.txt (line 2)) (3.0.38)\n",
            "Requirement already satisfied: wcwidth in /usr/local/lib/python3.9/dist-packages (from prompt_toolkit->-r requirements.txt (line 2)) (0.2.6)\n",
            "Installing collected packages: tokenizers\n",
            "Successfully installed tokenizers-0.13.3\n"
          ]
        }
      ]
    },
    {
      "cell_type": "code",
      "source": [
        "!ls -l"
      ],
      "metadata": {
        "colab": {
          "base_uri": "https://localhost:8080/"
        },
        "id": "V19t-CmDygYi",
        "outputId": "268764b5-0527-414d-f8b2-b916cefdfd54"
      },
      "execution_count": 4,
      "outputs": [
        {
          "output_type": "stream",
          "name": "stdout",
          "text": [
            "total 3384\n",
            "-rw-r--r-- 1 root root 2467981 Apr 15 16:42 20B_tokenizer.json\n",
            "-rw-r--r-- 1 root root    5091 Apr 15 16:42 API_DEMO.py\n",
            "-rw-r--r-- 1 root root   16878 Apr 15 16:42 chat.py\n",
            "-rw-r--r-- 1 root root  618427 Apr 15 16:42 ChatRWKV.png\n",
            "-rw-r--r-- 1 root root  228684 Apr 15 16:42 ChatRWKV-strategy.png\n",
            "-rw-r--r-- 1 root root   11357 Apr 15 16:42 LICENSE\n",
            "drwxr-xr-x 2 root root    4096 Apr 15 16:42 misc\n",
            "-rw-r--r-- 1 root root    3917 Apr 15 16:42 README.md\n",
            "-rw-r--r-- 1 root root      34 Apr 15 16:42 requirements.txt\n",
            "-rw-r--r-- 1 root root   70306 Apr 15 16:42 RWKV-eval.png\n",
            "-rw-r--r-- 1 root root    6426 Apr 15 16:42 RWKV_in_150_lines.py\n",
            "drwxr-xr-x 3 root root    4096 Apr 15 16:42 rwkv_pip_package\n",
            "drwxr-xr-x 2 root root    4096 Apr 15 16:42 src\n",
            "drwxr-xr-x 3 root root    4096 Apr 15 16:42 v2\n"
          ]
        }
      ]
    },
    {
      "cell_type": "code",
      "source": [
        "%cd v2"
      ],
      "metadata": {
        "colab": {
          "base_uri": "https://localhost:8080/"
        },
        "id": "7keEHL47ykIy",
        "outputId": "dbda1bfa-675c-4059-a377-57755d0c7e35"
      },
      "execution_count": 5,
      "outputs": [
        {
          "output_type": "stream",
          "name": "stdout",
          "text": [
            "/content/ChatRWKV/v2\n"
          ]
        }
      ]
    },
    {
      "cell_type": "code",
      "source": [
        "!ls -l"
      ],
      "metadata": {
        "colab": {
          "base_uri": "https://localhost:8080/"
        },
        "id": "zEyHt6UlyvSy",
        "outputId": "b9335ade-368f-4e2c-ebe2-8128e2a2abcb"
      },
      "execution_count": 6,
      "outputs": [
        {
          "output_type": "stream",
          "name": "stdout",
          "text": [
            "total 2452\n",
            "-rw-r--r-- 1 root root 2467981 Apr 15 16:42 20B_tokenizer.json\n",
            "-rw-r--r-- 1 root root    8519 Apr 15 16:42 benchmark.py\n",
            "-rw-r--r-- 1 root root   17477 Apr 15 16:42 chat.py\n",
            "-rw-r--r-- 1 root root    1567 Apr 15 16:42 convert_model.py\n",
            "drwxr-xr-x 3 root root    4096 Apr 15 16:42 prompt\n"
          ]
        }
      ]
    },
    {
      "cell_type": "code",
      "source": [
        "!pip install ninja"
      ],
      "metadata": {
        "colab": {
          "base_uri": "https://localhost:8080/"
        },
        "id": "DsZWsfsOzY2r",
        "outputId": "275cf820-3fcc-4469-88f4-76c4ae516d65"
      },
      "execution_count": 8,
      "outputs": [
        {
          "output_type": "stream",
          "name": "stdout",
          "text": [
            "Looking in indexes: https://pypi.org/simple, https://us-python.pkg.dev/colab-wheels/public/simple/\n",
            "Collecting ninja\n",
            "  Downloading ninja-1.11.1-py2.py3-none-manylinux_2_12_x86_64.manylinux2010_x86_64.whl (145 kB)\n",
            "\u001b[2K     \u001b[90m━━━━━━━━━━━━━━━━━━━━━━━━━━━━━━━━━━━━━━\u001b[0m \u001b[32m146.0/146.0 kB\u001b[0m \u001b[31m10.1 MB/s\u001b[0m eta \u001b[36m0:00:00\u001b[0m\n",
            "\u001b[?25hInstalling collected packages: ninja\n",
            "Successfully installed ninja-1.11.1\n"
          ]
        }
      ]
    },
    {
      "cell_type": "code",
      "source": [
        "!python chat.py"
      ],
      "metadata": {
        "colab": {
          "base_uri": "https://localhost:8080/"
        },
        "id": "en5emzrNywn6",
        "outputId": "3eb961b1-9ba2-4d3e-d4d7-41ac2584667c"
      },
      "execution_count": 9,
      "outputs": [
        {
          "output_type": "stream",
          "name": "stdout",
          "text": [
            "\n",
            "\n",
            "ChatRWKV v2 https://github.com/BlinkDL/ChatRWKV\n",
            "\n",
            "English - cuda fp16 - /content/ChatRWKV/v2/prompt/default/English-2.py\n",
            "Loading model - /fsx/BlinkDL/HF-MODEL/rwkv-4-raven/RWKV-4-Raven-14B-v9-Eng99%-Other1%-20230412-ctx8192\n",
            "RWKV_JIT_ON 1 RWKV_CUDA_ON 0 RESCALE_LAYER 6\n",
            "\n",
            "Loading /fsx/BlinkDL/HF-MODEL/rwkv-4-raven/RWKV-4-Raven-14B-v9-Eng99%-Other1%-20230412-ctx8192.pth ...\n",
            "Traceback (most recent call last):\n",
            "  File \"/content/ChatRWKV/v2/chat.py\", line 115, in <module>\n",
            "    model = RWKV(model=args.MODEL_NAME, strategy=args.strategy)\n",
            "  File \"/usr/local/lib/python3.9/dist-packages/torch/jit/_script.py\", line 292, in init_then_script\n",
            "    original_init(self, *args, **kwargs)\n",
            "  File \"/content/ChatRWKV/v2/../rwkv_pip_package/src/rwkv/model.py\", line 101, in __init__\n",
            "    self.w = torch.load(args.MODEL_NAME, map_location='cpu') # load model to CPU first\n",
            "  File \"/usr/local/lib/python3.9/dist-packages/torch/serialization.py\", line 791, in load\n",
            "    with _open_file_like(f, 'rb') as opened_file:\n",
            "  File \"/usr/local/lib/python3.9/dist-packages/torch/serialization.py\", line 271, in _open_file_like\n",
            "    return _open_file(name_or_buffer, mode)\n",
            "  File \"/usr/local/lib/python3.9/dist-packages/torch/serialization.py\", line 252, in __init__\n",
            "    super().__init__(open(name, mode))\n",
            "FileNotFoundError: [Errno 2] No such file or directory: '/fsx/BlinkDL/HF-MODEL/rwkv-4-raven/RWKV-4-Raven-14B-v9-Eng99%-Other1%-20230412-ctx8192.pth'\n"
          ]
        }
      ]
    },
    {
      "cell_type": "code",
      "source": [
        "!pi"
      ],
      "metadata": {
        "id": "ayuCtlS4zQb2"
      },
      "execution_count": null,
      "outputs": []
    }
  ]
}